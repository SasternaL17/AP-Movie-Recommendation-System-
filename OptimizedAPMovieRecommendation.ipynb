{
  "nbformat": 4,
  "nbformat_minor": 0,
  "metadata": {
    "colab": {
      "provenance": []
    },
    "kernelspec": {
      "name": "python3",
      "display_name": "Python 3"
    },
    "language_info": {
      "name": "python"
    }
  },
  "cells": [
    {
      "cell_type": "code",
      "source": [
        "!pip install apyori"
      ],
      "metadata": {
        "colab": {
          "base_uri": "https://localhost:8080/"
        },
        "id": "3CWbtQqG5wMn",
        "outputId": "424f8e91-a7bf-452f-f465-e49a0e8e352a"
      },
      "execution_count": 4,
      "outputs": [
        {
          "output_type": "stream",
          "name": "stdout",
          "text": [
            "Looking in indexes: https://pypi.org/simple, https://us-python.pkg.dev/colab-wheels/public/simple/\n",
            "Collecting apyori\n",
            "  Downloading apyori-1.1.2.tar.gz (8.6 kB)\n",
            "  Preparing metadata (setup.py) ... \u001b[?25l\u001b[?25hdone\n",
            "Building wheels for collected packages: apyori\n",
            "  Building wheel for apyori (setup.py) ... \u001b[?25l\u001b[?25hdone\n",
            "  Created wheel for apyori: filename=apyori-1.1.2-py3-none-any.whl size=5956 sha256=b94cb5d022e1c5fc8f5b3ee42c132791f6632dffe6e1ca06ef587d49e6c2106b\n",
            "  Stored in directory: /root/.cache/pip/wheels/c4/1a/79/20f55c470a50bb3702a8cb7c94d8ada15573538c7f4baebe2d\n",
            "Successfully built apyori\n",
            "Installing collected packages: apyori\n",
            "Successfully installed apyori-1.1.2\n"
          ]
        }
      ]
    },
    {
      "cell_type": "code",
      "source": [
        "import numpy as np\n",
        "import matplotlib.pyplot as plt\n",
        "import pandas as pd"
      ],
      "metadata": {
        "id": "PAlB-1WO53xC"
      },
      "execution_count": 5,
      "outputs": []
    },
    {
      "cell_type": "code",
      "execution_count": 6,
      "metadata": {
        "colab": {
          "base_uri": "https://localhost:8080/"
        },
        "id": "2Oi548bh4Ouy",
        "outputId": "e88279be-ca8f-4696-a91b-5da2d4dcbb2b"
      },
      "outputs": [
        {
          "output_type": "stream",
          "name": "stdout",
          "text": [
            "                   Movie 1                   Movie 2   Support\n",
            "0          Captain America             Black Panther  0.003349\n",
            "1          Game of thrones  Comedy nights with Kapil  0.003215\n",
            "2        Kanan Gill Comedy  Comedy nights with Kapil  0.008036\n",
            "3          Game of thrones             Prision Break  0.004554\n",
            "4           Harry Potter 1            Harry Potter 2  0.005759\n",
            "5           Harry Potter 1     The Lord of the rings  0.005090\n",
            "6    crimes of grindelwald            Harry Potter 2  0.005759\n",
            "7             Interstellar                 inception  0.015939\n",
            "8  The Wolf of Wall Street                 inception  0.005358\n"
          ]
        }
      ],
      "source": [
        "from apyori import apriori\n",
        "\n",
        "def fetch_movie_data(csv_file):\n",
        "    dataset = pd.read_csv(csv_file, header=None)\n",
        "    transactions = []\n",
        "    for i in range(0, dataset.shape[0]):\n",
        "        transactions.append([str(dataset.values[i, j]) for j in range(0, dataset.shape[1])])\n",
        "    rules = apriori(transactions=transactions, min_support=0.003, min_confidence=0.2, min_lift=3, min_length=2, max_length=2)\n",
        "    results = list(rules)\n",
        "    \n",
        "    def inspect(results):\n",
        "        movie_1 = [tuple(result[2][0][0])[0] for result in results]\n",
        "        movie_2 = [tuple(result[2][0][1])[0] for result in results]\n",
        "        supports = [result[1] for result in results]\n",
        "        return list(zip(movie_1, movie_2, supports))\n",
        "\n",
        "    recommended_movies = pd.DataFrame(inspect(results), columns=['Movie 1', 'Movie 2', 'Support'])\n",
        "    return recommended_movies\n",
        "\n",
        "csv_file_path = 'Amazon Prime Movie Recommendation.csv'  \n",
        "recommended_movies = fetch_movie_data(csv_file_path)\n",
        "\n",
        "\n",
        "print(recommended_movies)\n"
      ]
    },
    {
      "cell_type": "code",
      "source": [
        "pickle_file_path = 'recommended_movies.pkl'\n",
        "recommended_movies.to_pickle(pickle_file_path)"
      ],
      "metadata": {
        "id": "DM0UEMdy62La"
      },
      "execution_count": 7,
      "outputs": []
    }
  ]
}